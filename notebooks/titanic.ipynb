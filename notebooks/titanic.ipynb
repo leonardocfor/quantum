{
 "cells": [
  {
   "cell_type": "code",
   "execution_count": 1,
   "metadata": {},
   "outputs": [],
   "source": [
    "import pandas as pd \n",
    "\n",
    "train = pd.read_csv('../data/titanic/train.csv')\n",
    "test = pd.read_csv('../data/titanic/test.csv')"
   ]
  },
  {
   "cell_type": "markdown",
   "metadata": {},
   "source": [
    "#### Load train and test (optional)"
   ]
  },
  {
   "cell_type": "code",
   "execution_count": 2,
   "metadata": {},
   "outputs": [],
   "source": [
    "import numpy as np\n",
    "with open('../data/titanic/train.npy', 'rb') as f:\n",
    "    train_input = np.load(f)\n",
    "    train_labels = np.load(f)\n",
    "with open('../data/titanic/test.npy', 'rb') as f:\n",
    "    test_input = np.load(f)\n",
    "    test_labels = np.load(f)"
   ]
  },
  {
   "cell_type": "code",
   "execution_count": 3,
   "metadata": {},
   "outputs": [
    {
     "name": "stdout",
     "output_type": "stream",
     "text": [
      "train has 891 rows and 12 columns\n",
      "test has 418 rows and 11 columns\n"
     ]
    }
   ],
   "source": [
    "print('train has {} rows and {} columns'.format(*train.shape))\n",
    "print('test has {} rows and {} columns'.format(*test.shape))"
   ]
  },
  {
   "cell_type": "markdown",
   "metadata": {},
   "source": [
    "#### Analyzing the data"
   ]
  },
  {
   "cell_type": "code",
   "execution_count": 4,
   "metadata": {},
   "outputs": [
    {
     "name": "stdout",
     "output_type": "stream",
     "text": [
      "<class 'pandas.core.frame.DataFrame'>\n",
      "RangeIndex: 891 entries, 0 to 890\n",
      "Data columns (total 12 columns):\n",
      " #   Column       Non-Null Count  Dtype  \n",
      "---  ------       --------------  -----  \n",
      " 0   PassengerId  891 non-null    int64  \n",
      " 1   Survived     891 non-null    int64  \n",
      " 2   Pclass       891 non-null    int64  \n",
      " 3   Name         891 non-null    object \n",
      " 4   Sex          891 non-null    object \n",
      " 5   Age          714 non-null    float64\n",
      " 6   SibSp        891 non-null    int64  \n",
      " 7   Parch        891 non-null    int64  \n",
      " 8   Ticket       891 non-null    object \n",
      " 9   Fare         891 non-null    float64\n",
      " 10  Cabin        204 non-null    object \n",
      " 11  Embarked     889 non-null    object \n",
      "dtypes: float64(2), int64(5), object(5)\n",
      "memory usage: 83.7+ KB\n"
     ]
    }
   ],
   "source": [
    "train.info()"
   ]
  },
  {
   "cell_type": "code",
   "execution_count": 5,
   "metadata": {},
   "outputs": [
    {
     "name": "stdout",
     "output_type": "stream",
     "text": [
      "<class 'pandas.core.frame.DataFrame'>\n",
      "RangeIndex: 418 entries, 0 to 417\n",
      "Data columns (total 11 columns):\n",
      " #   Column       Non-Null Count  Dtype  \n",
      "---  ------       --------------  -----  \n",
      " 0   PassengerId  418 non-null    int64  \n",
      " 1   Pclass       418 non-null    int64  \n",
      " 2   Name         418 non-null    object \n",
      " 3   Sex          418 non-null    object \n",
      " 4   Age          332 non-null    float64\n",
      " 5   SibSp        418 non-null    int64  \n",
      " 6   Parch        418 non-null    int64  \n",
      " 7   Ticket       418 non-null    object \n",
      " 8   Fare         417 non-null    float64\n",
      " 9   Cabin        91 non-null     object \n",
      " 10  Embarked     418 non-null    object \n",
      "dtypes: float64(2), int64(4), object(5)\n",
      "memory usage: 36.0+ KB\n"
     ]
    }
   ],
   "source": [
    "test.info()"
   ]
  },
  {
   "cell_type": "code",
   "execution_count": 6,
   "metadata": {},
   "outputs": [
    {
     "data": {
      "text/html": [
       "<div>\n",
       "<style scoped>\n",
       "    .dataframe tbody tr th:only-of-type {\n",
       "        vertical-align: middle;\n",
       "    }\n",
       "\n",
       "    .dataframe tbody tr th {\n",
       "        vertical-align: top;\n",
       "    }\n",
       "\n",
       "    .dataframe thead th {\n",
       "        text-align: right;\n",
       "    }\n",
       "</style>\n",
       "<table border=\"1\" class=\"dataframe\">\n",
       "  <thead>\n",
       "    <tr style=\"text-align: right;\">\n",
       "      <th></th>\n",
       "      <th>PassengerId</th>\n",
       "      <th>Survived</th>\n",
       "      <th>Pclass</th>\n",
       "      <th>Name</th>\n",
       "      <th>Sex</th>\n",
       "      <th>Age</th>\n",
       "      <th>SibSp</th>\n",
       "      <th>Parch</th>\n",
       "      <th>Ticket</th>\n",
       "      <th>Fare</th>\n",
       "      <th>Cabin</th>\n",
       "      <th>Embarked</th>\n",
       "    </tr>\n",
       "  </thead>\n",
       "  <tbody>\n",
       "    <tr>\n",
       "      <th>0</th>\n",
       "      <td>1</td>\n",
       "      <td>0</td>\n",
       "      <td>3</td>\n",
       "      <td>Braund, Mr. Owen Harris</td>\n",
       "      <td>male</td>\n",
       "      <td>22.0</td>\n",
       "      <td>1</td>\n",
       "      <td>0</td>\n",
       "      <td>A/5 21171</td>\n",
       "      <td>7.2500</td>\n",
       "      <td>NaN</td>\n",
       "      <td>S</td>\n",
       "    </tr>\n",
       "    <tr>\n",
       "      <th>1</th>\n",
       "      <td>2</td>\n",
       "      <td>1</td>\n",
       "      <td>1</td>\n",
       "      <td>Cumings, Mrs. John Bradley (Florence Briggs Th...</td>\n",
       "      <td>female</td>\n",
       "      <td>38.0</td>\n",
       "      <td>1</td>\n",
       "      <td>0</td>\n",
       "      <td>PC 17599</td>\n",
       "      <td>71.2833</td>\n",
       "      <td>C85</td>\n",
       "      <td>C</td>\n",
       "    </tr>\n",
       "    <tr>\n",
       "      <th>2</th>\n",
       "      <td>3</td>\n",
       "      <td>1</td>\n",
       "      <td>3</td>\n",
       "      <td>Heikkinen, Miss. Laina</td>\n",
       "      <td>female</td>\n",
       "      <td>26.0</td>\n",
       "      <td>0</td>\n",
       "      <td>0</td>\n",
       "      <td>STON/O2. 3101282</td>\n",
       "      <td>7.9250</td>\n",
       "      <td>NaN</td>\n",
       "      <td>S</td>\n",
       "    </tr>\n",
       "    <tr>\n",
       "      <th>3</th>\n",
       "      <td>4</td>\n",
       "      <td>1</td>\n",
       "      <td>1</td>\n",
       "      <td>Futrelle, Mrs. Jacques Heath (Lily May Peel)</td>\n",
       "      <td>female</td>\n",
       "      <td>35.0</td>\n",
       "      <td>1</td>\n",
       "      <td>0</td>\n",
       "      <td>113803</td>\n",
       "      <td>53.1000</td>\n",
       "      <td>C123</td>\n",
       "      <td>S</td>\n",
       "    </tr>\n",
       "    <tr>\n",
       "      <th>4</th>\n",
       "      <td>5</td>\n",
       "      <td>0</td>\n",
       "      <td>3</td>\n",
       "      <td>Allen, Mr. William Henry</td>\n",
       "      <td>male</td>\n",
       "      <td>35.0</td>\n",
       "      <td>0</td>\n",
       "      <td>0</td>\n",
       "      <td>373450</td>\n",
       "      <td>8.0500</td>\n",
       "      <td>NaN</td>\n",
       "      <td>S</td>\n",
       "    </tr>\n",
       "  </tbody>\n",
       "</table>\n",
       "</div>"
      ],
      "text/plain": [
       "   PassengerId  Survived  Pclass  \\\n",
       "0            1         0       3   \n",
       "1            2         1       1   \n",
       "2            3         1       3   \n",
       "3            4         1       1   \n",
       "4            5         0       3   \n",
       "\n",
       "                                                Name     Sex   Age  SibSp  \\\n",
       "0                            Braund, Mr. Owen Harris    male  22.0      1   \n",
       "1  Cumings, Mrs. John Bradley (Florence Briggs Th...  female  38.0      1   \n",
       "2                             Heikkinen, Miss. Laina  female  26.0      0   \n",
       "3       Futrelle, Mrs. Jacques Heath (Lily May Peel)  female  35.0      1   \n",
       "4                           Allen, Mr. William Henry    male  35.0      0   \n",
       "\n",
       "   Parch            Ticket     Fare Cabin Embarked  \n",
       "0      0         A/5 21171   7.2500   NaN        S  \n",
       "1      0          PC 17599  71.2833   C85        C  \n",
       "2      0  STON/O2. 3101282   7.9250   NaN        S  \n",
       "3      0            113803  53.1000  C123        S  \n",
       "4      0            373450   8.0500   NaN        S  "
      ]
     },
     "execution_count": 6,
     "metadata": {},
     "output_type": "execute_result"
    }
   ],
   "source": [
    "train.head()"
   ]
  },
  {
   "cell_type": "markdown",
   "metadata": {},
   "source": [
    "### Cleaning the data"
   ]
  },
  {
   "cell_type": "markdown",
   "metadata": {},
   "source": [
    "#### General cleaning"
   ]
  },
  {
   "cell_type": "code",
   "execution_count": 7,
   "metadata": {},
   "outputs": [
    {
     "name": "stdout",
     "output_type": "stream",
     "text": [
      "<class 'pandas.core.frame.DataFrame'>\n",
      "Int64Index: 889 entries, 0 to 890\n",
      "Data columns (total 11 columns):\n",
      " #   Column       Non-Null Count  Dtype  \n",
      "---  ------       --------------  -----  \n",
      " 0   PassengerId  889 non-null    int64  \n",
      " 1   Survived     889 non-null    int64  \n",
      " 2   Pclass       889 non-null    int64  \n",
      " 3   Name         889 non-null    object \n",
      " 4   Sex          889 non-null    object \n",
      " 5   Age          889 non-null    float64\n",
      " 6   SibSp        889 non-null    int64  \n",
      " 7   Parch        889 non-null    int64  \n",
      " 8   Ticket       889 non-null    object \n",
      " 9   Fare         889 non-null    float64\n",
      " 10  Embarked     889 non-null    object \n",
      "dtypes: float64(2), int64(5), object(4)\n",
      "memory usage: 83.3+ KB\n"
     ]
    }
   ],
   "source": [
    "# Remove missing \"Embarked\" data\n",
    "train = train.dropna(subset=[\"Embarked\"])\n",
    "# Drop cabin - very little information about it\n",
    "train = train.drop(\"Cabin\", axis=1)\n",
    "# Fill missing age with the mean\n",
    "mean = train[\"Age\"].mean()\n",
    "train[\"Age\"] = train[\"Age\"].fillna(mean)\n",
    "train.info()"
   ]
  },
  {
   "cell_type": "markdown",
   "metadata": {},
   "source": [
    "#### Managing unique data"
   ]
  },
  {
   "cell_type": "code",
   "execution_count": 8,
   "metadata": {},
   "outputs": [
    {
     "name": "stdout",
     "output_type": "stream",
     "text": [
      "There are 889 different (unique) PassengerIds in the data\n",
      "There are 889 different (unique) names in the data\n",
      "There are 680 different (unique) ticket numbers in the data\n"
     ]
    }
   ],
   "source": [
    "print('There are {} different (unique) PassengerIds in the data'.format(train[\"PassengerId\"].nunique()))\n",
    "print('There are {} different (unique) names in the data'.format(train[\"Name\"].nunique()))\n",
    "print('There are {} different (unique) ticket numbers in the data'.format(train[\"Ticket\"].nunique()))"
   ]
  },
  {
   "cell_type": "code",
   "execution_count": 9,
   "metadata": {},
   "outputs": [
    {
     "name": "stdout",
     "output_type": "stream",
     "text": [
      "<class 'pandas.core.frame.DataFrame'>\n",
      "Int64Index: 889 entries, 0 to 890\n",
      "Data columns (total 8 columns):\n",
      " #   Column    Non-Null Count  Dtype  \n",
      "---  ------    --------------  -----  \n",
      " 0   Survived  889 non-null    int64  \n",
      " 1   Pclass    889 non-null    int64  \n",
      " 2   Sex       889 non-null    object \n",
      " 3   Age       889 non-null    float64\n",
      " 4   SibSp     889 non-null    int64  \n",
      " 5   Parch     889 non-null    int64  \n",
      " 6   Fare      889 non-null    float64\n",
      " 7   Embarked  889 non-null    object \n",
      "dtypes: float64(2), int64(4), object(2)\n",
      "memory usage: 62.5+ KB\n"
     ]
    }
   ],
   "source": [
    "# Dropping unique identifiers\n",
    "train = train.drop(\"PassengerId\", axis =1)\n",
    "train = train.drop(\"Name\", axis=1)\n",
    "train = train.drop(\"Ticket\", axis=1)\n",
    "\n",
    "train.info()"
   ]
  },
  {
   "cell_type": "markdown",
   "metadata": {},
   "source": [
    "#### Handling text and categorical attributes"
   ]
  },
  {
   "cell_type": "code",
   "execution_count": 10,
   "metadata": {},
   "outputs": [
    {
     "data": {
      "text/html": [
       "<div>\n",
       "<style scoped>\n",
       "    .dataframe tbody tr th:only-of-type {\n",
       "        vertical-align: middle;\n",
       "    }\n",
       "\n",
       "    .dataframe tbody tr th {\n",
       "        vertical-align: top;\n",
       "    }\n",
       "\n",
       "    .dataframe thead th {\n",
       "        text-align: right;\n",
       "    }\n",
       "</style>\n",
       "<table border=\"1\" class=\"dataframe\">\n",
       "  <thead>\n",
       "    <tr style=\"text-align: right;\">\n",
       "      <th></th>\n",
       "      <th>Survived</th>\n",
       "      <th>Pclass</th>\n",
       "      <th>Sex</th>\n",
       "      <th>Age</th>\n",
       "      <th>SibSp</th>\n",
       "      <th>Parch</th>\n",
       "      <th>Fare</th>\n",
       "      <th>Embarked</th>\n",
       "    </tr>\n",
       "  </thead>\n",
       "  <tbody>\n",
       "    <tr>\n",
       "      <th>0</th>\n",
       "      <td>0</td>\n",
       "      <td>3</td>\n",
       "      <td>1</td>\n",
       "      <td>22.0</td>\n",
       "      <td>1</td>\n",
       "      <td>0</td>\n",
       "      <td>7.2500</td>\n",
       "      <td>2</td>\n",
       "    </tr>\n",
       "    <tr>\n",
       "      <th>1</th>\n",
       "      <td>1</td>\n",
       "      <td>1</td>\n",
       "      <td>0</td>\n",
       "      <td>38.0</td>\n",
       "      <td>1</td>\n",
       "      <td>0</td>\n",
       "      <td>71.2833</td>\n",
       "      <td>0</td>\n",
       "    </tr>\n",
       "    <tr>\n",
       "      <th>2</th>\n",
       "      <td>1</td>\n",
       "      <td>3</td>\n",
       "      <td>0</td>\n",
       "      <td>26.0</td>\n",
       "      <td>0</td>\n",
       "      <td>0</td>\n",
       "      <td>7.9250</td>\n",
       "      <td>2</td>\n",
       "    </tr>\n",
       "    <tr>\n",
       "      <th>3</th>\n",
       "      <td>1</td>\n",
       "      <td>1</td>\n",
       "      <td>0</td>\n",
       "      <td>35.0</td>\n",
       "      <td>1</td>\n",
       "      <td>0</td>\n",
       "      <td>53.1000</td>\n",
       "      <td>2</td>\n",
       "    </tr>\n",
       "    <tr>\n",
       "      <th>4</th>\n",
       "      <td>0</td>\n",
       "      <td>3</td>\n",
       "      <td>1</td>\n",
       "      <td>35.0</td>\n",
       "      <td>0</td>\n",
       "      <td>0</td>\n",
       "      <td>8.0500</td>\n",
       "      <td>2</td>\n",
       "    </tr>\n",
       "  </tbody>\n",
       "</table>\n",
       "</div>"
      ],
      "text/plain": [
       "   Survived  Pclass  Sex   Age  SibSp  Parch     Fare  Embarked\n",
       "0         0       3    1  22.0      1      0   7.2500         2\n",
       "1         1       1    0  38.0      1      0  71.2833         0\n",
       "2         1       3    0  26.0      0      0   7.9250         2\n",
       "3         1       1    0  35.0      1      0  53.1000         2\n",
       "4         0       3    1  35.0      0      0   8.0500         2"
      ]
     },
     "execution_count": 10,
     "metadata": {},
     "output_type": "execute_result"
    }
   ],
   "source": [
    "from sklearn.preprocessing import LabelEncoder\n",
    "le = LabelEncoder()\n",
    "\n",
    "for col in ['Sex','Embarked']:\n",
    "    le.fit(train[col])\n",
    "    train[col] = le.transform(train[col])\n",
    "\n",
    "train.head()"
   ]
  },
  {
   "cell_type": "markdown",
   "metadata": {},
   "source": [
    "#### Feature scaling"
   ]
  },
  {
   "cell_type": "code",
   "execution_count": 11,
   "metadata": {},
   "outputs": [
    {
     "name": "stdout",
     "output_type": "stream",
     "text": [
      "The maximum age is 80.0\n",
      "The maximum fare is 512.3292\n"
     ]
    }
   ],
   "source": [
    "print('The maximum age is {}'.format(train[\"Age\"].max()))\n",
    "print('The maximum fare is {}'.format(train[\"Fare\"].max()))"
   ]
  },
  {
   "cell_type": "code",
   "execution_count": 12,
   "metadata": {},
   "outputs": [
    {
     "name": "stdout",
     "output_type": "stream",
     "text": [
      "The minimum value is 0.0 and the maximum value is 1.0\n"
     ]
    }
   ],
   "source": [
    "# The scaler returns a Numpy-array instead of a Pandas DataFrame.\n",
    "from sklearn.preprocessing import MinMaxScaler\n",
    "\n",
    "scaler = MinMaxScaler()\n",
    "scaler.fit(train)\n",
    "train = scaler.transform(train)\n",
    "\n",
    "print('The minimum value is {} and the maximum value is {}'.format(train.min(),train.max()))"
   ]
  },
  {
   "cell_type": "markdown",
   "metadata": {},
   "source": [
    "### Splitting data"
   ]
  },
  {
   "cell_type": "code",
   "execution_count": 13,
   "metadata": {},
   "outputs": [
    {
     "name": "stdout",
     "output_type": "stream",
     "text": [
      "we have 711 training and 178 testing rows\n",
      "There are 7 input columns\n"
     ]
    }
   ],
   "source": [
    "from sklearn.model_selection import train_test_split\n",
    "\n",
    "input_data = train[:,1:8]\n",
    "labels = train[:,0]\n",
    "\n",
    "train_input, test_input, train_labels, test_labels = train_test_split(input_data,labels,test_size=0.2)\n",
    "\n",
    "print('we have {} training and {} testing rows'.format(train_input.shape[0],test_input.shape[0]))\n",
    "print('There are {} input columns'.format(train_input.shape[1]))"
   ]
  },
  {
   "cell_type": "code",
   "execution_count": 14,
   "metadata": {},
   "outputs": [],
   "source": [
    "# Saving the data for training and testing \n",
    "import numpy as np \n",
    "\n",
    "with open('../data/titanic/train.npy','wb') as f:\n",
    "    np.save(f,train_input)\n",
    "    np.save(f,train_labels)\n",
    "\n",
    "with open('../data/titanic/test.npy','wb') as f:\n",
    "    np.save(f,test_input)\n",
    "    np.save(f,test_labels)"
   ]
  },
  {
   "cell_type": "markdown",
   "metadata": {},
   "source": [
    "### Training"
   ]
  },
  {
   "cell_type": "code",
   "execution_count": 15,
   "metadata": {},
   "outputs": [
    {
     "name": "stdout",
     "output_type": "stream",
     "text": [
      "388 correct predictions out of 711. Accuracy 55 %\n"
     ]
    }
   ],
   "source": [
    "# Simple algorithm - random classifier\n",
    "import random\n",
    "random.seed(a=None,version=2)\n",
    "\n",
    "def classify(passenger):\n",
    "    return random.randint(0,1)\n",
    "\n",
    "def run(f_classify,x):\n",
    "    return list(map(f_classify,x))\n",
    "\n",
    "results = run(classify,train_input)\n",
    "#print(results)\n",
    "\n",
    "def evaluate(predictions,actual):\n",
    "    correct = list(filter(\n",
    "        lambda item: item[0] == item[1],\n",
    "        list(zip(predictions,actual))\n",
    "    ))\n",
    "    return '{} correct predictions out of {}. Accuracy {:.0f} %' \\\n",
    "            .format(len(correct),len(actual),100*len(correct)/len(actual))\n",
    "\n",
    "print(evaluate(results,train_labels))"
   ]
  },
  {
   "cell_type": "code",
   "execution_count": 16,
   "metadata": {},
   "outputs": [],
   "source": [
    "import numpy as np\n",
    "with open('../data/titanic/train.npy', 'rb') as f:\n",
    "    train_input = np.load(f)\n",
    "    train_labels = np.load(f)\n",
    "with open('../data/titanic/test.npy', 'rb') as f:\n",
    "    test_input = np.load(f)\n",
    "    test_labels = np.load(f)"
   ]
  },
  {
   "cell_type": "code",
   "execution_count": 17,
   "metadata": {},
   "outputs": [
    {
     "name": "stdout",
     "output_type": "stream",
     "text": [
      "432 correct predictions out of 711. Accuracy 61 %\n"
     ]
    }
   ],
   "source": [
    "def predict_death(item):\n",
    "    return 0\n",
    "\n",
    "print(evaluate(run(predict_death, train_input), train_labels))"
   ]
  },
  {
   "cell_type": "code",
   "execution_count": 18,
   "metadata": {},
   "outputs": [],
   "source": [
    "#classify_function = classify\n",
    "classify_function = predict_death\n"
   ]
  },
  {
   "cell_type": "markdown",
   "metadata": {},
   "source": [
    "### Confusion Matrix and metrics concepts\n",
    "\n",
    "TN FP\n",
    "\n",
    "FN TP\n",
    "\n",
    "Downwards: Negative predictive value\n",
    "To the right: Specificity \n",
    "\n",
    "* Accuracy: Sum of TP + Sum of TN / total population\n",
    "* Precision: The precision is the “accuracy of the positive predictions.” Sum of TP / Sum of all predictive positives\n",
    "* Recall: The recall is the “accuracy of the actual positives.” Sum of TP/ Sum of all actual positives\n",
    "* Specifity: The specificity is the “accuracy of the actual negatives.” Sum of TN / Sum of actual negatives\n",
    "* Negative predictive value (NPV): The “negative predictive value” (NPV) is the “accuracy of the negative\n",
    "predictions.” Sum TN / Sum of all Predictive negatives\n",
    "\n",
    "Prevalence: the ratio between the two possible values, not being 0.5."
   ]
  },
  {
   "cell_type": "code",
   "execution_count": 19,
   "metadata": {},
   "outputs": [
    {
     "data": {
      "text/plain": [
       "array([[432,   0],\n",
       "       [279,   0]])"
      ]
     },
     "execution_count": 19,
     "metadata": {},
     "output_type": "execute_result"
    }
   ],
   "source": [
    "# Confusion matrix \n",
    "# True Negatives  | False Positives\n",
    "# False Negatives | True Positives\n",
    "\n",
    "from sklearn.metrics import confusion_matrix\n",
    "\n",
    "predictions = run(classify_function,train_input)\n",
    "confusion_matrix(train_labels,predictions)\n"
   ]
  },
  {
   "cell_type": "code",
   "execution_count": 20,
   "metadata": {},
   "outputs": [
    {
     "name": "stdout",
     "output_type": "stream",
     "text": [
      "The precision score of the \"predict_death\" function is 0.0\n"
     ]
    },
    {
     "name": "stderr",
     "output_type": "stream",
     "text": [
      "/home/leonardo/.conda/envs/quantum/lib/python3.8/site-packages/sklearn/metrics/_classification.py:1318: UndefinedMetricWarning: Precision is ill-defined and being set to 0.0 due to no predicted samples. Use `zero_division` parameter to control this behavior.\n",
      "  _warn_prf(average, modifier, msg_start, len(result))\n"
     ]
    }
   ],
   "source": [
    "# Precision: is the “accuracy of the positive predictions.” It only looks at the positive predictions. These are predictions that the passenger survived.\n",
    "# sum(TruePositives)/sum(AllPredictedPositives)\n",
    "\n",
    "from sklearn.metrics import precision_score\n",
    "print('The precision score of the \"{}\" function is {}'.format(str(classify_function.__name__),precision_score(train_labels,predictions)))"
   ]
  },
  {
   "cell_type": "code",
   "execution_count": 21,
   "metadata": {},
   "outputs": [
    {
     "name": "stdout",
     "output_type": "stream",
     "text": [
      "The recall score of the \"predict_death\" function is 0.0\n"
     ]
    }
   ],
   "source": [
    "# Recall: is the “accuracy of the actual positives.” It only looks at the actual positives.\n",
    "# sum(TruePositives)/sum(AllActualPositives)\n",
    "\n",
    "from sklearn.metrics import recall_score\n",
    "print('The recall score of the \"{}\" function is {}'.format(str(classify_function.__name__),recall_score(train_labels,predictions)))"
   ]
  },
  {
   "cell_type": "code",
   "execution_count": 22,
   "metadata": {},
   "outputs": [
    {
     "name": "stdout",
     "output_type": "stream",
     "text": [
      "The specificity score of the \"predict_death\" function is 1.00\n",
      "The npv score of the \"predict_death\" function is 0.61\n"
     ]
    }
   ],
   "source": [
    "# Specifity: is the “accuracy of the actual negatives.” It only looks at actual negatives (deaths)\n",
    "# sum(TrueNegatives)/sum(AllActualNegatives)\n",
    "\n",
    "# “negative predictive value” (NPV): is the “accuracy of the negative predictions\n",
    "# sum(TrueNegatives)/sum(AllPredictedNegatives)\n",
    "\n",
    "def specificity(matrix):\n",
    "    return matrix[0][0]/(matrix[0][0]+matrix[0,1]) if (matrix[0][0]+matrix[0][1] > 0) else 0\n",
    "\n",
    "def npv(matrix):\n",
    "    return matrix[0][0]/(matrix[0][0]+matrix[1][0]) if (matrix[0][0]+matrix[1][0] > 0) else 0\n",
    "\n",
    "cm = confusion_matrix(train_labels, predictions)\n",
    "\n",
    "print('The specificity score of the \"{}\" function is {:.2f}'.format(str(classify_function.__name__),specificity(cm)))\n",
    "print('The npv score of the \"{}\" function is {:.2f}'.format(str(classify_function.__name__),npv(cm)))\n",
    "\n",
    "\n"
   ]
  },
  {
   "cell_type": "code",
   "execution_count": 23,
   "metadata": {},
   "outputs": [
    {
     "name": "stdout",
     "output_type": "stream",
     "text": [
      "The precision score of the random classifier is 0.41\n",
      "The recall score of the random classifier is 0.53\n",
      "The specificity score of the random classifier is 0.51\n",
      "The npv score of the random classifier is 0.63\n"
     ]
    }
   ],
   "source": [
    "random_predictions = run(classify, train_input)\n",
    "random_cm = confusion_matrix(train_labels, random_predictions)\n",
    "print('The precision score of the random classifier is {:.2f}'.format(precision_score(train_labels, random_predictions)))\n",
    "print('The recall score of the random classifier is {:.2f}'.format(recall_score(train_labels, random_predictions)))\n",
    "print('The specificity score of the random classifier is {:.2f}'.format(specificity(random_cm)))\n",
    "print('The npv score of the random classifier is {:.2f}'.format(npv(random_cm)))"
   ]
  },
  {
   "cell_type": "markdown",
   "metadata": {},
   "source": [
    "### Unmaking the hypocrite classifier \n",
    "\n",
    "An hypocrite classifier adds no values and it is a way of comparing classifiers that have different metrics"
   ]
  },
  {
   "cell_type": "code",
   "execution_count": 24,
   "metadata": {},
   "outputs": [
    {
     "name": "stdout",
     "output_type": "stream",
     "text": [
      "The precision score of the hypocrite classifier is 0.44\n",
      "The recall score of the hypocrite classifier is 0.30\n",
      "The specificity score of the hypocrite classifier is 0.75\n",
      "The npv score of the hypocrite classifier is 0.62\n"
     ]
    }
   ],
   "source": [
    "# weight is a number between -1 and 1 and denotes the classifier’s tendency to predict death (negative values) or survival (positive values).\n",
    "# weight*0.5+random.uniform(0,1) generates numbers between −0.5 and 1.5 . \n",
    "# The min and max functions ensure the result to be between 0 and 1 . The round function returns either 0 (death) or 1 (survival).\n",
    "def hypocrite(passenger,weight):\n",
    "    return round(min(1,max(0,weight*0.5+random.uniform(0,1))))\n",
    "\n",
    "w_predictions = run(lambda passenger: hypocrite(passenger,-0.5), train_input)\n",
    "w_cm = confusion_matrix(train_labels,w_predictions)\n",
    "print('The precision score of the hypocrite classifier is {:.2f}'.format(precision_score(train_labels, w_predictions)))\n",
    "print('The recall score of the hypocrite classifier is {:.2f}'.format(recall_score(train_labels, w_predictions)))\n",
    "print('The specificity score of the hypocrite classifier is {:.2f}'.format(specificity(w_cm)))\n",
    "print('The npv score of the hypocrite classifier is {:.2f}'.format(npv(w_cm)))"
   ]
  },
  {
   "cell_type": "code",
   "execution_count": 25,
   "metadata": {},
   "outputs": [],
   "source": [
    "import numpy as np\n",
    "# number of steps to consider between −1 and 1\n",
    "cnt_steps = 40\n",
    "# a list of the step numbers [0, 1, ..., 38, 39]\n",
    "steps = np.arange(0, cnt_steps, 1).tolist()\n",
    "# list of the weights at every step [−1, −0.95, ... 0.9, 0.95, 1.0]\n",
    "weights = list(map(\n",
    "    lambda weight: round(weight, 2),\n",
    "    np.arange(-1, 1+2/(cnt_steps-1), 2/(cnt_steps-1)).tolist()\n",
    "))\n",
    "# list of predictions at every step\n",
    "l_predictions = list(map(\n",
    "    lambda step: run(\n",
    "    lambda passenger: hypocrite(passenger, weights[step]),\n",
    "    train_input\n",
    "    ),\n",
    "    steps\n",
    "))\n",
    "# list of confusion matrices at every step\n",
    "l_cm = list(map(\n",
    "    lambda step: confusion_matrix(train_labels, l_predictions[step]),\n",
    "    steps\n",
    "))"
   ]
  },
  {
   "cell_type": "code",
   "execution_count": 26,
   "metadata": {},
   "outputs": [
    {
     "data": {
      "image/png": "[encoded data removed]",
      "text/plain": [
       "<Figure size 432x288 with 1 Axes>"
      ]
     },
     "metadata": {
      "needs_background": "light"
     },
     "output_type": "display_data"
    }
   ],
   "source": [
    "import matplotlib.pyplot as plt\n",
    "import matplotlib\n",
    "# create a graph for the number of predicted deaths\n",
    "deaths, = plt.plot(\n",
    "weights, # point at x−axis\n",
    "list(map(lambda cur: l_cm[cur][0][0]+l_cm[cur][1][0], steps)),\n",
    "'lightsalmon', # color of the graph\n",
    "label='Predicted death'\n",
    ")\n",
    "# create a graph for the number of predicted survivals\n",
    "survivals, = plt.plot(\n",
    "weights, # point at x−axis\n",
    "list(map(lambda cur: l_cm[cur][0][1]+l_cm[cur][1][1], steps)),\n",
    "'lightgreen', # color of the graph\n",
    "label='Predicted survival'\n",
    ")\n",
    "plt.legend(handles=[deaths, survivals],loc='upper center',\n",
    "bbox_to_anchor=(0.5, -0.15), framealpha=0.0, ncol=2)\n",
    "plt.xlabel(\"Weight\")\n",
    "plt.ylabel(\"Number of predictions\")\n",
    "plt.show()"
   ]
  },
  {
   "cell_type": "code",
   "execution_count": 27,
   "metadata": {},
   "outputs": [
    {
     "name": "stderr",
     "output_type": "stream",
     "text": [
      "/home/leonardo/.conda/envs/quantum/lib/python3.8/site-packages/sklearn/metrics/_classification.py:1318: UndefinedMetricWarning: Precision is ill-defined and being set to 0.0 due to no predicted samples. Use `zero_division` parameter to control this behavior.\n",
      "  _warn_prf(average, modifier, msg_start, len(result))\n"
     ]
    }
   ],
   "source": [
    "l_precision = list(map(lambda step: precision_score(train_labels,l_predictions[step]),steps))\n",
    "l_recall = list(map(lambda step: recall_score(train_labels, l_predictions[step]),steps))\n",
    "l_specificity = list(map(lambda step: specificity(l_cm[step]),steps))\n",
    "l_npv = list(map(lambda step: npv(l_cm[step]),steps))"
   ]
  },
  {
   "cell_type": "code",
   "execution_count": 28,
   "metadata": {},
   "outputs": [
    {
     "data": {
      "image/png": "[encoded data removed]",
      "text/plain": [
       "<Figure size 432x288 with 1 Axes>"
      ]
     },
     "metadata": {
      "needs_background": "light"
     },
     "output_type": "display_data"
    }
   ],
   "source": [
    "m_precision, = plt.plot(weights, l_precision, 'pink', label=\"precision\")\n",
    "m_recall, = plt.plot(weights, l_recall, 'cyan', label=\"recall\")\n",
    "m_specificity, = plt.plot(weights, l_specificity, 'gold', label=\"specificity\")\n",
    "m_npv, = plt.plot(weights, l_npv, 'coral', label=\"npv\")\n",
    "plt.legend(\n",
    "    handles=[m_precision, m_recall, m_specificity, m_npv],\n",
    "    loc='upper center',\n",
    "    bbox_to_anchor=(0.5, -0.15),\n",
    "    framealpha=0.0,\n",
    "    ncol=4)\n",
    "plt.xlabel(\"Weight\")\n",
    "plt.ylabel(\"Number of predictions\")\n",
    "plt.show()"
   ]
  },
  {
   "cell_type": "code",
   "execution_count": 29,
   "metadata": {},
   "outputs": [
    {
     "data": {
      "image/png": "[encoded data removed]",
      "text/plain": [
       "<Figure size 432x288 with 1 Axes>"
      ]
     },
     "metadata": {
      "needs_background": "light"
     },
     "output_type": "display_data"
    }
   ],
   "source": [
    "l_mean = list(map(lambda step: sum(step)*0.25, zip(l_precision, l_recall,l_specificity, l_npv)))\n",
    "m_mean, = plt.plot(weights, l_mean, 'pink', label=\"Mean of the measures\")\n",
    "plt.legend(handles=[m_mean],loc='upper center',bbox_to_anchor=(0.5, -0.15),framealpha=0.0)\n",
    "plt.ylim(0, 1)\n",
    "plt.show()"
   ]
  },
  {
   "cell_type": "code",
   "execution_count": 30,
   "metadata": {},
   "outputs": [],
   "source": [
    "def classifier_report(name, run, classify, input, labels):\n",
    "    cr_predictions = run(classify, input)\n",
    "    cr_cm = confusion_matrix(labels, cr_predictions)\n",
    "    cr_precision = precision_score(labels, cr_predictions)\n",
    "    cr_recall = recall_score(labels, cr_predictions)\n",
    "    cr_specificity = specificity(cr_cm)\n",
    "    cr_npv = npv(cr_cm)\n",
    "    cr_level = 0.25*(cr_precision + cr_recall + cr_specificity + cr_npv)\n",
    "    print('The precision score of the {} classifier is {:.2f}'.format(name, cr_precision))\n",
    "    print('The recall score of the {} classifier is {:.2f}'.format(name, cr_recall))\n",
    "    print('The specificity score of the {} classifier is {:.2f}'.format(name, cr_specificity))\n",
    "    print('The npv score of the {} classifier is {:.2f}'.format(name, cr_npv))\n",
    "    print('The information level is: {:.2f}'.format(cr_level))"
   ]
  },
  {
   "cell_type": "code",
   "execution_count": 31,
   "metadata": {},
   "outputs": [
    {
     "name": "stdout",
     "output_type": "stream",
     "text": [
      "The precision score of the Random PQC classifier is 0.38\n",
      "The recall score of the Random PQC classifier is 0.46\n",
      "The specificity score of the Random PQC classifier is 0.52\n",
      "The npv score of the Random PQC classifier is 0.60\n",
      "The information level is: 0.49\n"
     ]
    }
   ],
   "source": [
    "classifier_report(\"Random PQC\",run,classify,train_input,train_labels)"
   ]
  },
  {
   "cell_type": "markdown",
   "metadata": {},
   "source": [
    "### Qubit and Quantum states"
   ]
  },
  {
   "cell_type": "code",
   "execution_count": 32,
   "metadata": {},
   "outputs": [],
   "source": [
    "import qiskit"
   ]
  },
  {
   "cell_type": "code",
   "execution_count": 33,
   "metadata": {},
   "outputs": [
    {
     "data": {
      "text/plain": [
       "{'qiskit-terra': '0.19.2', 'qiskit-aer': '0.10.3', 'qiskit-ignis': '0.7.0', 'qiskit-ibmq-provider': '0.18.3', 'qiskit-aqua': None, 'qiskit': '0.34.2', 'qiskit-nature': None, 'qiskit-finance': None, 'qiskit-optimization': None, 'qiskit-machine-learning': None}"
      ]
     },
     "execution_count": 33,
     "metadata": {},
     "output_type": "execute_result"
    }
   ],
   "source": [
    "qiskit.__qiskit_version__"
   ]
  },
  {
   "cell_type": "markdown",
   "metadata": {},
   "source": [
    "##### Creating the first qubit"
   ]
  },
  {
   "cell_type": "code",
   "execution_count": 34,
   "metadata": {},
   "outputs": [
    {
     "data": {
      "text/plain": [
       "<qiskit.circuit.instructionset.InstructionSet at 0x7f1effbef0c0>"
      ]
     },
     "execution_count": 34,
     "metadata": {},
     "output_type": "execute_result"
    }
   ],
   "source": [
    "## Creating the first qubit \n",
    "from qiskit import QuantumCircuit\n",
    "\n",
    "# Create a quantum circuit with one qubit\n",
    "qc = QuantumCircuit(1)\n",
    "\n",
    "# Define inital state as |1>\n",
    "initial_state = [0,1]\n",
    "\n",
    "# Apply initialization operation to the qubit at position 0 - zero because is the first and only (in this case) qubit\n",
    "qc.initialize(initial_state,0)"
   ]
  },
  {
   "cell_type": "code",
   "execution_count": 35,
   "metadata": {},
   "outputs": [],
   "source": [
    "# Prepare the simulation backend \n",
    "from qiskit import execute, Aer \n",
    "\n",
    "# Tell Qiskit how to simulate our cirtcuit \n",
    "backend = Aer.get_backend('statevector_simulator')\n",
    "\n",
    "# Do the simulation, returning the result \n",
    "result = execute(qc,backend).result()"
   ]
  },
  {
   "cell_type": "code",
   "execution_count": 36,
   "metadata": {},
   "outputs": [
    {
     "data": {
      "image/png": "[encoded data removed]",
      "text/plain": [
       "<Figure size 504x360 with 1 Axes>"
      ]
     },
     "execution_count": 36,
     "metadata": {},
     "output_type": "execute_result"
    }
   ],
   "source": [
    "from qiskit.visualization import plot_histogram\n",
    "import matplotlib.pyplot as plt \n",
    "\n",
    "# get the probability distribution \n",
    "counts = result.get_counts()\n",
    "\n",
    "# show the histogram \n",
    "plot_histogram(counts)"
   ]
  },
  {
   "cell_type": "code",
   "execution_count": 37,
   "metadata": {},
   "outputs": [
    {
     "data": {
      "image/png": "[encoded data removed]",
      "text/plain": [
       "<Figure size 504x360 with 1 Axes>"
      ]
     },
     "execution_count": 37,
     "metadata": {},
     "output_type": "execute_result"
    }
   ],
   "source": [
    "# |ψ> -> common symbol for quantum state\n",
    "# Define state |psi> as a superposition between |0> and |1>\n",
    "# initial_state = [1,1] # this does not work because both probabilities of getting 0 and 1 should add to 100%\n",
    "# So we must weight the the quantum states |0> and |1> with alpha and beta. See page 69 of book -> which leads to \n",
    "# |ψ> = [1/sqrt(2), 1/sqrt(2)] because we are considering a 50% to observe zero or one\n",
    "from math import sqrt\n",
    "initial_state = [1/sqrt(2), 1/sqrt(2)]\n",
    "\n",
    "# Redefine the quantum circuit \n",
    "qc = QuantumCircuit(1)\n",
    "\n",
    "# Initialize the 0th qubit in the state 'initial_state' \n",
    "qc.initialize(initial_state,0)\n",
    "\n",
    "# Execute the quantum circuit \n",
    "results = execute(qc,backend).result().get_counts()\n",
    "\n",
    "# Plot the results \n",
    "plot_histogram(results)\n"
   ]
  },
  {
   "cell_type": "markdown",
   "metadata": {},
   "source": [
    "Equation 3.3. This is the definition of a qubit in superposition. This qubit,\n",
    "when observed, has the probability of α to result in 0 and β to result in 1 .\n",
    "\n",
    "|ψ> = α|0> + β|1> = [α,β]\n",
    "\n",
    "\n",
    "Equation 3.4. This is the required normalization. It requires the sum of the\n",
    "squared amplitudes (α and β) to equal 1.\n",
    "\n",
    "α^2 + β^2 = 1"
   ]
  },
  {
   "cell_type": "code",
   "execution_count": 38,
   "metadata": {},
   "outputs": [
    {
     "data": {
      "image/png": "[encoded data removed]",
      "text/plain": [
       "<Figure size 504x360 with 1 Axes>"
      ]
     },
     "execution_count": 38,
     "metadata": {},
     "output_type": "execute_result"
    }
   ],
   "source": [
    "from qiskit import QuantumCircuit, execute, Aer\n",
    "from qiskit.visualization import plot_histogram\n",
    "from math import sqrt\n",
    "qc = QuantumCircuit(1)\n",
    "initial_state = [1/2, sqrt(3)/2] # Here, we insert the state -> This considers a 25% chance of resulting in 0 and 75% of resulting in 1\n",
    "qc.initialize(initial_state, 0)\n",
    "backend = Aer.get_backend('statevector_simulator')\n",
    "result = execute(qc,backend).result()\n",
    "counts = result.get_counts()\n",
    "plot_histogram(counts)"
   ]
  },
  {
   "cell_type": "code",
   "execution_count": 39,
   "metadata": {},
   "outputs": [
    {
     "data": {
      "image/png": "[encoded data removed]",
      "text/plain": [
       "<Figure size 504x360 with 1 Axes>"
      ]
     },
     "execution_count": 39,
     "metadata": {},
     "output_type": "execute_result"
    }
   ],
   "source": [
    "# Using the theta angle to define α and β - refer to pages 72 - 78 of Quantum computing and AI with Python book \n",
    "from math import pi, cos, sin \n",
    "from qiskit import QuantumCircuit, Aer, execute \n",
    "from qiskit.visualization import plot_histogram \n",
    "\n",
    "def get_state(theta):\n",
    "    \"\"\"returns a valid state vector\"\"\"\n",
    "    return [cos(theta/2),sin(theta/2)]\n",
    "\n",
    "# playing with the values for theta\n",
    "theta = -pi/2 # affects the propabilities\n",
    "\n",
    "# Create, initialize and execute the quantum circuit \n",
    "qc = QuantumCircuit(1)\n",
    "qc.initialize(get_state(theta),0)\n",
    "backend = Aer.get_backend('statevector_simulator')\n",
    "result = execute(qc,backend).result()\n",
    "counts = result.get_counts()\n",
    "\n",
    "# Show the plot \n",
    "plot_histogram(counts)\n"
   ]
  },
  {
   "cell_type": "code",
   "execution_count": 40,
   "metadata": {},
   "outputs": [
    {
     "data": {
      "text/html": [
       "<pre style=\"word-wrap: normal;white-space: pre;background: #fff0;line-height: 1.1;font-family: &quot;Courier New&quot;,Courier,monospace\">   ┌──────────────────────────────┐\n",
       "q: ┤ Initialize(0.70711,-0.70711) ├\n",
       "   └──────────────────────────────┘</pre>"
      ],
      "text/plain": [
       "   ┌──────────────────────────────┐\n",
       "q: ┤ Initialize(0.70711,-0.70711) ├\n",
       "   └──────────────────────────────┘"
      ]
     },
     "execution_count": 40,
     "metadata": {},
     "output_type": "execute_result"
    }
   ],
   "source": [
    "qc.draw(output='text')"
   ]
  },
  {
   "cell_type": "code",
   "execution_count": 41,
   "metadata": {},
   "outputs": [
    {
     "data": {
      "image/png": "[encoded data removed]",
      "text/plain": [
       "<Figure size 504x360 with 1 Axes>"
      ]
     },
     "execution_count": 41,
     "metadata": {},
     "output_type": "execute_result"
    }
   ],
   "source": [
    "# Circuit with measurement \n",
    "from math import sqrt\n",
    "initial_state = [1/sqrt(2), 1/sqrt(2)]\n",
    "qc = QuantumCircuit(1)\n",
    "qc.initialize(initial_state,0)\n",
    "qc.measure_all() # Causes the qubit out of superposition and collapse in either 0 or 1 -> observer effect -> this is an observation\n",
    "\n",
    "result = execute(qc,backend).result()\n",
    "counts = result.get_counts()\n",
    "plot_histogram(counts)"
   ]
  },
  {
   "cell_type": "code",
   "execution_count": 42,
   "metadata": {},
   "outputs": [
    {
     "data": {
      "text/html": [
       "<pre style=\"word-wrap: normal;white-space: pre;background: #fff0;line-height: 1.1;font-family: &quot;Courier New&quot;,Courier,monospace\">        ┌─────────────────────────────┐ ░ ┌─┐\n",
       "     q: ┤ Initialize(0.70711,0.70711) ├─░─┤M├\n",
       "        └─────────────────────────────┘ ░ └╥┘\n",
       "meas: 1/═══════════════════════════════════╩═\n",
       "                                           0 </pre>"
      ],
      "text/plain": [
       "        ┌─────────────────────────────┐ ░ ┌─┐\n",
       "     q: ┤ Initialize(0.70711,0.70711) ├─░─┤M├\n",
       "        └─────────────────────────────┘ ░ └╥┘\n",
       "meas: 1/═══════════════════════════════════╩═\n",
       "                                           0 "
      ]
     },
     "execution_count": 42,
     "metadata": {},
     "output_type": "execute_result"
    }
   ],
   "source": [
    "qc.draw(output='text')"
   ]
  },
  {
   "cell_type": "markdown",
   "metadata": {},
   "source": [
    "### Parameterized Quantum Circuit (PQC)\n",
    "Used in here to solve the binary classification task\n",
    "\n",
    "A PQC is a quantum circuit that takes all data it needs as input parameters. Therefore it has its name parameterized. It predicts the label of the thing based on these parameters."
   ]
  },
  {
   "cell_type": "code",
   "execution_count": 43,
   "metadata": {},
   "outputs": [
    {
     "name": "stdout",
     "output_type": "stream",
     "text": [
      "The precision score of the Random QPC classifier is 0.37\n",
      "The recall score of the Random QPC classifier is 0.45\n",
      "The specificity score of the Random QPC classifier is 0.50\n",
      "The npv score of the Random QPC classifier is 0.59\n",
      "The information level is: 0.48\n"
     ]
    }
   ],
   "source": [
    "# This would be like the random classifier saw before\n",
    "\n",
    "from qiskit import execute, Aer, QuantumCircuit\n",
    "from math import sqrt\n",
    "from sklearn.metrics import recall_score, precision_score, confusion_matrix\n",
    "\n",
    "### Parameterized Quantum Circuit (PQC)\n",
    "def pqc_classify(backend,passenger_state):\n",
    "    \"\"\"backend -- a qiskit backend to run the quantum circuit at passenger_state -- a valid quantum state vector\"\"\"\n",
    "\n",
    "    # Create a quantum circuit with one qubit\n",
    "    qc = QuantumCircuit(1)\n",
    "\n",
    "    # Define state |Psi> and initialize the circuit\n",
    "    qc.initialize(passenger_state,0)\n",
    "\n",
    "    # Measure the qubit\n",
    "    qc.measure_all()\n",
    "\n",
    "    # Run the quantum circuit\n",
    "    result = execute(qc,backend).result()\n",
    "\n",
    "    # Get the counts, these are either {'0': 1} or {'1': 1}\n",
    "    counts = result.get_counts()\n",
    "\n",
    "    # Get the bit 0 or 1 \n",
    "    return int(list(map(lambda item: item[0], counts.items()))[0])\n",
    "\n",
    "# Loading training data\n",
    "import numpy as np\n",
    "with open('../data/titanic/train.npy', 'rb') as f:\n",
    "    train_input = np.load(f)\n",
    "    train_labels = np.load(f)\n",
    "with open('../data/titanic/test.npy', 'rb') as f:\n",
    "    test_input = np.load(f)\n",
    "    test_labels = np.load(f)\n",
    "\n",
    "# Running the classifier\n",
    "backend = Aer.get_backend('statevector_simulator')\n",
    "initial_state = [1/sqrt(2),1/sqrt(2)] # This leads to a hypocrite classifier which solely use chance when predicting the label of something\n",
    "\n",
    "classifier_report(\"Random QPC\",\n",
    "    run,\n",
    "    lambda passenger: pqc_classify(backend,initial_state),\n",
    "    train_input,\n",
    "    train_labels)\n",
    "\n",
    "# This metrics are very similar to that of the random classifier but since we can set the seed, it is not actually random, as with the same seed will yield the same results\n",
    "# The PQC is actually truly random (when running in a real quantum computer)\n"
   ]
  },
  {
   "cell_type": "markdown",
   "metadata": {},
   "source": [
    "### Variational Hybrid Quantum-Classical Algorithm"
   ]
  },
  {
   "cell_type": "code",
   "execution_count": 44,
   "metadata": {},
   "outputs": [
    {
     "name": "stdout",
     "output_type": "stream",
     "text": [
      "The precision score of the Variational classifier is 0.76\n",
      "The recall score of the Variational classifier is 0.59\n",
      "The specificity score of the Variational classifier is 0.88\n",
      "The npv score of the Variational classifier is 0.77\n",
      "The information level is: 0.75\n"
     ]
    }
   ],
   "source": [
    "# In this example, it is assumed that all seven data features are \n",
    "# independent from each other and each feature contributes more or \n",
    "# less to the survival or death of a passenger. Therefore, we say \n",
    "# the overall probability of survival P(survival) is the sum of\n",
    "# each feature’s value F times the feature’s weight μ F (“mu”). \n",
    "\n",
    "# P(survival) = ∑ (F · μ F )\n",
    "\n",
    "from functools import reduce\n",
    "from scipy.stats import spearmanr\n",
    "from math import cos, sin, pi\n",
    "\n",
    "def get_state(theta):\n",
    "\n",
    "    \"\"\"returns a valid state vector from angle theta\"\"\"\n",
    "    return [cos(theta/2),sin(theta/2)]\n",
    "\n",
    "def weigh_feature(feature, weight):\n",
    "\n",
    "    \"\"\"\n",
    "    feature -- the single value of a passenger's feature\n",
    "    weight -- the overwall weight of this feature\n",
    "    returns the weighted feature\n",
    "    \"\"\"\n",
    "    return feature*weight\n",
    "\n",
    "def get_overall_probability(features,weights):\n",
    "\n",
    "    \"\"\"\n",
    "    features -- list of the features of a passenger\n",
    "    weights -- list of all features' weights\n",
    "    \"\"\"\n",
    "    return reduce(\n",
    "        lambda result, data: result + weigh_feature(*data),\n",
    "        zip(features,weights),\n",
    "        0\n",
    "    )\n",
    "\n",
    "def pre_process_weighted(passenger): \n",
    "\n",
    "    \"\"\"\n",
    "    passenger -- the normalized (array of numeric data) passenger data \n",
    "    returns a valid quantum state\n",
    "    \"\"\"\n",
    "\n",
    "    # calculate the overall probability \n",
    "    mu = get_overall_probability(passenger, correlations)\n",
    "\n",
    "    # theta between 0 (|0>) and pi (|1>)\n",
    "    quantum_state = get_state((1-mu)*pi)\n",
    "    \n",
    "    return quantum_state\n",
    "\n",
    "def pqc(backend, quantum_state):\n",
    "\n",
    "    \"\"\"\n",
    "    backend -- a qiskit backend to run the quantum circuit at\n",
    "    quantum_state -- a valid quantum state vector\n",
    "    returns the counts of the measurement\n",
    "    \"\"\"\n",
    "\n",
    "    # Create a quantum circuit with one qubit\n",
    "    qc = QuantumCircuit(1)\n",
    "\n",
    "    # Define state |Psi> and initialize the cirtcuit\n",
    "    qc.initialize(quantum_state,0)\n",
    "\n",
    "    # Measure the qubit \n",
    "    qc.measure_all()\n",
    "\n",
    "    # Run the quantum circuit \n",
    "    result = execute(qc,backend).result()\n",
    "\n",
    "    # Get the counts, theare are either {'0': 1} or {'1': 1}\n",
    "    counts = result.get_counts(qc)\n",
    "\n",
    "    return counts\n",
    "\n",
    "def post_process(counts): \n",
    "\n",
    "    \"\"\"\n",
    "    counts -- the result of the quantum circuit execution\n",
    "    returns the prediction\n",
    "    \"\"\"\n",
    "    return int(list(map(lambda item: item[0], counts.items()))[0])\n",
    "\n",
    "\n",
    "# Separate the training data into a list of columns \n",
    "columns = [list(map(lambda passenger: passenger[i], train_input)) for i in range(0,7)]\n",
    "\n",
    "# Calculate the correlation coefficient for each column\n",
    "# Correlation is calculated between each column and the labels list\n",
    "# There are different types of correlation coefficients. The most frequently\n",
    "# used are the Pearson and Spearman correlation methods.\n",
    "# The Pearson correlation is best suited for linear continuous variables,\n",
    "# whereas the Spearman correlation also works for monotonic ordinal variables. \n",
    "# Since we have some categorical data ( Plass , Sex , and Embarked ), we use \n",
    "# the Spearman method to calculate the correlation coefficient. \n",
    "# spearmanr returns index 0 -> correlation coefficient, index 1 -> p-value\n",
    "correlations = list(map(lambda col: spearmanr(col,train_labels)[0], \n",
    "    columns))\n",
    "\n",
    "# Tell qiskit how to simulate the circuit \n",
    "backend = Aer.get_backend('statevector_simulator')\n",
    "\n",
    "classifier_report(\n",
    "    \"Variational\",\n",
    "    run,\n",
    "    lambda passenger: post_process(pqc(backend,pre_process_weighted(passenger))),\n",
    "    train_input,\n",
    "    train_labels)"
   ]
  },
  {
   "cell_type": "code",
   "execution_count": 45,
   "metadata": {},
   "outputs": [
    {
     "name": "stdout",
     "output_type": "stream",
     "text": [
      "The precision score of the Variational-Test classifier is 0.62\n",
      "The recall score of the Variational-Test classifier is 0.59\n",
      "The specificity score of the Variational-Test classifier is 0.81\n",
      "The npv score of the Variational-Test classifier is 0.79\n",
      "The information level is: 0.70\n"
     ]
    }
   ],
   "source": [
    "# Test the PQC‐based classifier on data it has not seen before, the test set \n",
    "classifier_report(\n",
    "    \"Variational-Test\",\n",
    "    run,\n",
    "    lambda passenger: post_process(pqc(backend,pre_process_weighted(passenger))),\n",
    "    test_input,\n",
    "    test_labels)"
   ]
  },
  {
   "cell_type": "markdown",
   "metadata": {},
   "source": [
    "### Probabilistic bynary classifier\n",
    "Bayes theorem and Naive Bayes classifier\n",
    "\n",
    "* Naïve Bayes assumes that the presence of a particular feature in a dataset is unrelated to the presence of any other feature."
   ]
  },
  {
   "cell_type": "code",
   "execution_count": 46,
   "metadata": {},
   "outputs": [
    {
     "data": {
      "text/html": [
       "<div>\n",
       "<style scoped>\n",
       "    .dataframe tbody tr th:only-of-type {\n",
       "        vertical-align: middle;\n",
       "    }\n",
       "\n",
       "    .dataframe tbody tr th {\n",
       "        vertical-align: top;\n",
       "    }\n",
       "\n",
       "    .dataframe thead th {\n",
       "        text-align: right;\n",
       "    }\n",
       "</style>\n",
       "<table border=\"1\" class=\"dataframe\">\n",
       "  <thead>\n",
       "    <tr style=\"text-align: right;\">\n",
       "      <th></th>\n",
       "      <th>PassengerId</th>\n",
       "      <th>Survived</th>\n",
       "      <th>Pclass</th>\n",
       "      <th>Name</th>\n",
       "      <th>Sex</th>\n",
       "      <th>Age</th>\n",
       "      <th>SibSp</th>\n",
       "      <th>Parch</th>\n",
       "      <th>Ticket</th>\n",
       "      <th>Fare</th>\n",
       "      <th>Cabin</th>\n",
       "      <th>Embarked</th>\n",
       "    </tr>\n",
       "  </thead>\n",
       "  <tbody>\n",
       "    <tr>\n",
       "      <th>0</th>\n",
       "      <td>1</td>\n",
       "      <td>0</td>\n",
       "      <td>3</td>\n",
       "      <td>Braund, Mr. Owen Harris</td>\n",
       "      <td>male</td>\n",
       "      <td>22.0</td>\n",
       "      <td>1</td>\n",
       "      <td>0</td>\n",
       "      <td>A/5 21171</td>\n",
       "      <td>7.2500</td>\n",
       "      <td>NaN</td>\n",
       "      <td>S</td>\n",
       "    </tr>\n",
       "    <tr>\n",
       "      <th>1</th>\n",
       "      <td>2</td>\n",
       "      <td>1</td>\n",
       "      <td>1</td>\n",
       "      <td>Cumings, Mrs. John Bradley (Florence Briggs Th...</td>\n",
       "      <td>female</td>\n",
       "      <td>38.0</td>\n",
       "      <td>1</td>\n",
       "      <td>0</td>\n",
       "      <td>PC 17599</td>\n",
       "      <td>71.2833</td>\n",
       "      <td>C85</td>\n",
       "      <td>C</td>\n",
       "    </tr>\n",
       "    <tr>\n",
       "      <th>2</th>\n",
       "      <td>3</td>\n",
       "      <td>1</td>\n",
       "      <td>3</td>\n",
       "      <td>Heikkinen, Miss. Laina</td>\n",
       "      <td>female</td>\n",
       "      <td>26.0</td>\n",
       "      <td>0</td>\n",
       "      <td>0</td>\n",
       "      <td>STON/O2. 3101282</td>\n",
       "      <td>7.9250</td>\n",
       "      <td>NaN</td>\n",
       "      <td>S</td>\n",
       "    </tr>\n",
       "    <tr>\n",
       "      <th>3</th>\n",
       "      <td>4</td>\n",
       "      <td>1</td>\n",
       "      <td>1</td>\n",
       "      <td>Futrelle, Mrs. Jacques Heath (Lily May Peel)</td>\n",
       "      <td>female</td>\n",
       "      <td>35.0</td>\n",
       "      <td>1</td>\n",
       "      <td>0</td>\n",
       "      <td>113803</td>\n",
       "      <td>53.1000</td>\n",
       "      <td>C123</td>\n",
       "      <td>S</td>\n",
       "    </tr>\n",
       "    <tr>\n",
       "      <th>4</th>\n",
       "      <td>5</td>\n",
       "      <td>0</td>\n",
       "      <td>3</td>\n",
       "      <td>Allen, Mr. William Henry</td>\n",
       "      <td>male</td>\n",
       "      <td>35.0</td>\n",
       "      <td>0</td>\n",
       "      <td>0</td>\n",
       "      <td>373450</td>\n",
       "      <td>8.0500</td>\n",
       "      <td>NaN</td>\n",
       "      <td>S</td>\n",
       "    </tr>\n",
       "  </tbody>\n",
       "</table>\n",
       "</div>"
      ],
      "text/plain": [
       "   PassengerId  Survived  Pclass  \\\n",
       "0            1         0       3   \n",
       "1            2         1       1   \n",
       "2            3         1       3   \n",
       "3            4         1       1   \n",
       "4            5         0       3   \n",
       "\n",
       "                                                Name     Sex   Age  SibSp  \\\n",
       "0                            Braund, Mr. Owen Harris    male  22.0      1   \n",
       "1  Cumings, Mrs. John Bradley (Florence Briggs Th...  female  38.0      1   \n",
       "2                             Heikkinen, Miss. Laina  female  26.0      0   \n",
       "3       Futrelle, Mrs. Jacques Heath (Lily May Peel)  female  35.0      1   \n",
       "4                           Allen, Mr. William Henry    male  35.0      0   \n",
       "\n",
       "   Parch            Ticket     Fare Cabin Embarked  \n",
       "0      0         A/5 21171   7.2500   NaN        S  \n",
       "1      0          PC 17599  71.2833   C85        C  \n",
       "2      0  STON/O2. 3101282   7.9250   NaN        S  \n",
       "3      0            113803  53.1000  C123        S  \n",
       "4      0            373450   8.0500   NaN        S  "
      ]
     },
     "execution_count": 46,
     "metadata": {},
     "output_type": "execute_result"
    }
   ],
   "source": [
    "import pandas as pd\n",
    "train = pd.read_csv('../data/titanic/train.csv')\n",
    "train.head()"
   ]
  },
  {
   "cell_type": "code",
   "execution_count": 47,
   "metadata": {},
   "outputs": [
    {
     "name": "stdout",
     "output_type": "stream",
     "text": [
      "P(survival) is 0.38\n"
     ]
    }
   ],
   "source": [
    "# Getting the probability of surviving\n",
    "survivors = train[train.Survived.eq(1)]\n",
    "\n",
    "prob_survival = len(survivors)/len(train)\n",
    "print('P(survival) is {:.2f}'.format(prob_survival))"
   ]
  },
  {
   "cell_type": "code",
   "execution_count": 48,
   "metadata": {},
   "outputs": [
    {
     "name": "stdout",
     "output_type": "stream",
     "text": [
      "P(survival|SecondClass) is 0.47\n"
     ]
    }
   ],
   "source": [
    "# Calculating the probability to survive if the passenger had a second class ticket\n",
    "\n",
    "second_class = train[train.Pclass.eq(2)]\n",
    "\n",
    "prob_survival_second_class = len(second_class[second_class.Survived.eq(1)])/len(second_class)\n",
    "print('P(survival|SecondClass) is {:.2f}'.format(prob_survival_second_class))"
   ]
  },
  {
   "cell_type": "code",
   "execution_count": 49,
   "metadata": {},
   "outputs": [
    {
     "name": "stdout",
     "output_type": "stream",
     "text": [
      "P(survival|Female) is 0.74\n"
     ]
    }
   ],
   "source": [
    "# Calculating the probability if the passenger was a female\n",
    "females = train[train.Sex.eq(\"female\")]\n",
    "\n",
    "prob_survival_female = len(females[females.Survived.eq(1)])/len(females)\n",
    "print('P(survival|Female) is {:.2f}'.format(prob_survival_female))"
   ]
  },
  {
   "cell_type": "code",
   "execution_count": 50,
   "metadata": {},
   "outputs": [
    {
     "name": "stdout",
     "output_type": "stream",
     "text": [
      "P(survival|SecondClass,Female) is 0.92\n"
     ]
    }
   ],
   "source": [
    "# Calculating the probability to survive if the passenger was female and had a second‐class ticket\n",
    "second_class_female = second_class[second_class.Sex.eq(\"female\")]\n",
    "\n",
    "prob_survival_second_class_female = len(second_class_female[second_class_female.Survived.eq(1)])/len(second_class_female)\n",
    "print('P(survival|SecondClass,Female) is {:.2f}'.format(prob_survival_second_class_female))"
   ]
  },
  {
   "cell_type": "code",
   "execution_count": 51,
   "metadata": {},
   "outputs": [
    {
     "name": "stdout",
     "output_type": "stream",
     "text": [
      "There are 314 female passengers the dataset\n",
      "There are 184 passengers with a second−class ticket in the dataset\n",
      "There are 76 female passengers with a second−class ticket in\n",
      "the dataset\n"
     ]
    }
   ],
   "source": [
    "# Counting second class and female passengers\n",
    "print('There are {} female passengers the dataset'.format(len(females)))\n",
    "print('There are {} passengers with a second−class ticket in the dataset'.format(len(second_class)))\n",
    "print('There are {} female passengers with a second−class ticket in\\nthe dataset'.format(len(second_class_female)))"
   ]
  },
  {
   "cell_type": "code",
   "execution_count": 52,
   "metadata": {},
   "outputs": [
    {
     "name": "stdout",
     "output_type": "stream",
     "text": [
      "The modifier of the second class ticket is 1.23.\n",
      "The informativeness is 0.23\n",
      "The modifier of being female is 1.93.\n",
      "The informativeness is 0.93\n",
      "\n",
      "P(Survived|SecondClass,Female) is 0.91\n"
     ]
    }
   ],
   "source": [
    "# Bayes theorem\n",
    "\n",
    "# backwards probability of a survivor having a second class ticket\n",
    "prob_survival_second_class = len(survivors[survivors.Pclass.eq(2)])/len(survivors)\n",
    "\n",
    "# modifier and the informativeness of the second-class ticket\n",
    "modifier_second_class = prob_survival_second_class/(len(second_class)/len(train))\n",
    "informativeness_second_class = abs(modifier_second_class-1)\n",
    "print('The modifier of the second class ticket is {:.2f}.\\nThe informativeness is {:.2f}'.format(modifier_second_class,informativeness_second_class))\n",
    "\n",
    "\n",
    "# backwards probability of a survivor being a female\n",
    "prob_survival_female = len(survivors[survivors.Sex.eq(\"female\")])/len(survivors)\n",
    "\n",
    "# modifier and the informativeness of being a female\n",
    "modifier_female = prob_survival_female/(len(females)/len(train))\n",
    "informativeness_female = abs(modifier_female-1)\n",
    "print('The modifier of being female is {:.2f}.\\nThe informativeness is {:.2f}'.format(modifier_female,informativeness_female))\n",
    "\n",
    "# Posterior probability\n",
    "posterior = modifier_second_class*modifier_female*prob_survival\n",
    "print('\\nP(Survived|SecondClass,Female) is {:.2f}'.format(posterior))\n",
    "\n"
   ]
  },
  {
   "cell_type": "markdown",
   "metadata": {},
   "source": [
    "#### Gaussian Naïve Bayes"
   ]
  },
  {
   "cell_type": "code",
   "execution_count": 53,
   "metadata": {},
   "outputs": [
    {
     "name": "stdout",
     "output_type": "stream",
     "text": [
      "The average passenger age is 29.7. The standard deviation is 14.5\n"
     ]
    },
    {
     "data": {
      "image/png": "[encoded data removed]",
      "text/plain": [
       "<Figure size 432x288 with 1 Axes>"
      ]
     },
     "metadata": {
      "needs_background": "light"
     },
     "output_type": "display_data"
    }
   ],
   "source": [
    "# When dealing with non-categorical data, use the Gaussian density function i.e. for continuous distributions features e.g. age\n",
    "train[\"Age\"].hist(bins=80)\n",
    "age_mean = train[\"Age\"].mean()\n",
    "age_std = train[\"Age\"].std()\n",
    "print('The average passenger age is {:.1f}. The standard deviation is {:.1f}'.format(age_mean, age_std))"
   ]
  },
  {
   "cell_type": "code",
   "execution_count": 54,
   "metadata": {},
   "outputs": [
    {
     "name": "stdout",
     "output_type": "stream",
     "text": [
      "The average survivor age is 28.3. The standard deviation is 15.0\n",
      "The modifier of the age of 29 is 0.97.\n",
      "Its informativeness is 0.03.\n"
     ]
    }
   ],
   "source": [
    "from math import exp, sqrt, pi\n",
    "\n",
    "def density(mu,sigma,age):\n",
    "    return 1/(sigma*sqrt(2*pi))*exp(-0.5*((age-mu)/sigma)**2)\n",
    "\n",
    "survivor_age_mean = survivors[\"Age\"].mean()\n",
    "survivor_age_std = survivors[\"Age\"].std()\n",
    "print('The average survivor age is {:.1f}. The standard deviation is {:.1f}'.format(survivor_age_mean, survivor_age_std))\n",
    "# calculate the Informativeness of the age of 29\n",
    "p_surv_age29 = density(survivor_age_mean, survivor_age_std, 29)\n",
    "p_age29 = density(age_mean, age_std, 29)\n",
    "m_age29 = p_surv_age29 / p_age29\n",
    "i_age29 = abs(m_age29-1)\n",
    "print('The modifier of the age of 29 is {:.2f}.'.format(m_age29))\n",
    "print('Its informativeness is {:.2f}.'.format(i_age29))"
   ]
  },
  {
   "cell_type": "code",
   "execution_count": 55,
   "metadata": {},
   "outputs": [
    {
     "name": "stdout",
     "output_type": "stream",
     "text": [
      "The modifier of the age of 70 is 0.94.\n",
      "Its informativeness is 0.06.\n",
      "\n",
      "The modifier of the age of 5 is 1.22.\n",
      "Its informativeness is 0.22.\n"
     ]
    }
   ],
   "source": [
    "# calculate the Informativeness of the age of 70\n",
    "p_surv_age70 = density(survivor_age_mean, survivor_age_std, 70)\n",
    "p_age70 = density(age_mean, age_std, 70)\n",
    "m_age70 = p_surv_age70 / p_age70\n",
    "i_age70 = abs(m_age70-1)\n",
    "print('The modifier of the age of 70 is {:.2f}.'.format(m_age70))\n",
    "print('Its informativeness is {:.2f}.\\n'.format(i_age70))\n",
    "# calculate the Informativeness of the age of 5\n",
    "p_surv_age5 = density(survivor_age_mean, survivor_age_std, 5)\n",
    "p_age5 = density(age_mean, age_std, 5)\n",
    "m_age5 = p_surv_age5 / p_age5\n",
    "i_age5 = abs(m_age5-1)\n",
    "print('The modifier of the age of 5 is {:.2f}.'.format(m_age5))\n",
    "print('Its informativeness is {:.2f}.'.format(i_age5))"
   ]
  },
  {
   "cell_type": "markdown",
   "metadata": {},
   "source": [
    "#### Truth tables with quantum states and quantum gates\n",
    "\n",
    "* In classical computing, we have a small set of boolean operators whose behavior we can easily represent in truth tables. But in quantum computing,\n",
    "matrices denote the operators called gates. And there are myriads of possible matrices we can apply. Math is a concise yet precise way to describe these\n",
    "operators. But you don’t need to be a mathematician to use these operations.\n",
    "* alpha and beta are probability amplitudes, the squares are the probabilities\n",
    "* The X-gate quantum operator is the matrix: X = [[0,1],[1,0]] - allows to switch the amplitudes of the quantum state\n",
    "* Hadamard gate, or H-gate: It allows to move away from the basis state vectors |0⟩ and |1⟩. It puts the qubit into a balanced state of superposition: H = 1/√2*[[1,1],[1,-1]]\n",
    "* It is possible to carry out computations without losing information and thus, without producing heat. This is known as reversible computation.\n",
    "* Applying H-gate to |0> results in |+>\n",
    "* Applying H-gate to |1> results in |->\n",
    "* |+> = (|0> + |1>)/sqrt(2) -> [alpha, betha] = [1/sqrt(2),1/sqrt(2)] : 50/50 chance of getting either 0 or 1. \n",
    "* |-> = (|0> - |1>)/sqrt(2) ->[alpha, betha] = [1/sqrt(2),-1/sqrt(2)] : 50/50 chance of getting either 0 or 1. \n",
    "* “ket-bra” notation = |a⟩⟨b| turns our qubit from the state |b⟩ into the state |a⟩.\n",
    "* Rotation Matrix gate = Ry = |ψ ⟩⟨0| + |ψ ⟩⟨1| = [cos(θ/2),sin(θ/2)][1 0] + [-sin(θ/2),cos(θ/2)][0 1] = [[cos(θ/2),-sin(θ/2)],[sin(θ/2),cos(θ/2)]] \n",
    "* In quantum computing, where you go always depends on where you come from."
   ]
  },
  {
   "cell_type": "code",
   "execution_count": 56,
   "metadata": {},
   "outputs": [
    {
     "name": "stdout",
     "output_type": "stream",
     "text": [
      "−−−−−−−−−−− Reversed states: −−−−−−−−−−\n",
      "psi: [0.50, 0.87] result: [0.87, 0.50]\n",
      "|0>: [1.00, 0.00] result: [0.00, 1.00]\n",
      "|1>: [0.00, 1.00] result: [1.00, 0.00]\n"
     ]
    },
    {
     "data": {
      "image/png": "[encoded data removed]",
      "text/plain": [
       "<Figure size 504x360 with 1 Axes>"
      ]
     },
     "execution_count": 56,
     "metadata": {},
     "output_type": "execute_result"
    }
   ],
   "source": [
    "from math import sqrt\n",
    "from qiskit import execute, Aer, QuantumCircuit\n",
    "from qiskit.visualization import plot_histogram\n",
    "\n",
    "# define the initial states \n",
    "psi =[0.5,sqrt(3)/2]\n",
    "always_0 = [1,0]\n",
    "always_1 = [0,1]\n",
    "\n",
    "def transform(name,state,f):\n",
    "    print('{}: [{:.2f}, {:.2f}] result: [{:.2f}, {:.2f}]'.format(name, *state, *f(state)))\n",
    "\n",
    "def reverse_state(arr):\n",
    "    return list(reversed(arr))\n",
    "\n",
    "\n",
    "print(\"−−−−−−−−−−− Reversed states: −−−−−−−−−−\")\n",
    "transform(\"psi\", psi, reverse_state)\n",
    "transform(\"|0>\", always_0, reverse_state)\n",
    "transform(\"|1>\", always_1, reverse_state)\n",
    "\n",
    "\n",
    "# Create a quantum circuit with one qubit\n",
    "qc = QuantumCircuit(1)\n",
    "# Define initial_state\n",
    "qc.initialize(psi, 0)\n",
    "# Apply the X−gate\n",
    "qc.x(0)\n",
    "# Tell Qiskit how to simulate our circuit\n",
    "backend = Aer.get_backend('statevector_simulator')\n",
    "# Do the simulation, returning the result\n",
    "result = execute(qc,backend).result()\n",
    "counts = result.get_counts()\n",
    "plot_histogram(counts)"
   ]
  },
  {
   "cell_type": "code",
   "execution_count": 57,
   "metadata": {},
   "outputs": [
    {
     "data": {
      "image/png": "[encoded data removed]",
      "text/plain": [
       "<Figure size 253.926x84.28 with 1 Axes>"
      ]
     },
     "execution_count": 57,
     "metadata": {},
     "output_type": "execute_result"
    }
   ],
   "source": [
    "# A circuit with an X-gate\n",
    "qc.draw('mpl')"
   ]
  },
  {
   "cell_type": "code",
   "execution_count": 58,
   "metadata": {},
   "outputs": [
    {
     "name": "stdout",
     "output_type": "stream",
     "text": [
      "Psi: [0.50, 0.87], reversed psi: [0.87, 0.50]\n"
     ]
    }
   ],
   "source": [
    "# Self-made reverse function\n",
    "def adjust_weight(state,weights):\n",
    "    return state[0]*weights[0]+state[1]*weights[1]\n",
    "\n",
    "print('Psi: [{:.2f}, {:.2f}], reversed psi: [{:.2f}, {:.2f}]'.format(\n",
    "    *psi,\n",
    "    adjust_weight(psi,[0,1]),\n",
    "    adjust_weight(psi,[1,0])\n",
    "))"
   ]
  },
  {
   "cell_type": "code",
   "execution_count": 59,
   "metadata": {},
   "outputs": [
    {
     "data": {
      "image/png": "[encoded data removed]",
      "text/plain": [
       "<Figure size 504x360 with 1 Axes>"
      ]
     },
     "execution_count": 59,
     "metadata": {},
     "output_type": "execute_result"
    }
   ],
   "source": [
    "# The Hadamard gate\n",
    "from qiskit import QuantumCircuit, Aer, execute\n",
    "from qiskit.visualization import plot_histogram\n",
    "import matplotlib.pyplot as plt\n",
    "\n",
    "# Create a quantum circuit with one qubit\n",
    "qc = QuantumCircuit(1)\n",
    "\n",
    "# Define initial state as |o>\n",
    "initial_state = [1,0]\n",
    "qc.initialize(initial_state,0)\n",
    "\n",
    "# Apply the Hadamard gate to the qubit \n",
    "qc.h(0)\n",
    "\n",
    "# Simulate circuit\n",
    "backend = Aer.get_backend('statevector_simulator')\n",
    "result = execute(qc,backend).result()\n",
    "\n",
    "# Probability distribution \n",
    "counts = result.get_counts()\n",
    "plot_histogram(counts)\n",
    "\n"
   ]
  },
  {
   "cell_type": "code",
   "execution_count": 60,
   "metadata": {},
   "outputs": [
    {
     "data": {
      "image/png": "[encoded data removed]",
      "text/plain": [
       "<Figure size 504x360 with 1 Axes>"
      ]
     },
     "execution_count": 60,
     "metadata": {},
     "output_type": "execute_result"
    }
   ],
   "source": [
    "# The Hadamard gate reverses itself \n",
    "from qiskit import QuantumCircuit, Aer, execute\n",
    "from qiskit.visualization import plot_histogram\n",
    "import matplotlib.pyplot as plt\n",
    "\n",
    "# Create a quantum circuit with one qubit\n",
    "qc = QuantumCircuit(1)\n",
    "\n",
    "# Define initial_state as |1>\n",
    "initial_state = [0, 1]\n",
    "qc.initialize(initial_state, 0)\n",
    "\n",
    "# apply the Hadamard gate to the qubit\n",
    "qc.h(0)\n",
    "\n",
    "# apply the Hadamard gate again to reverse it\n",
    "qc.h(0)\n",
    "\n",
    "# Tell Qiskit how to simulate our circuit\n",
    "backend = Aer.get_backend('statevector_simulator')\n",
    "\n",
    "# Do the simulation, returning the result\n",
    "result = execute(qc,backend).result()\n",
    "\n",
    "# get the probability distribution\n",
    "counts = result.get_counts()\n",
    "\n",
    "# Show the histogram\n",
    "plot_histogram(counts)"
   ]
  },
  {
   "cell_type": "code",
   "execution_count": 61,
   "metadata": {},
   "outputs": [
    {
     "data": {
      "image/png": "[encoded data removed]",
      "text/plain": [
       "<Figure size 504x360 with 1 Axes>"
      ]
     },
     "execution_count": 61,
     "metadata": {},
     "output_type": "execute_result"
    }
   ],
   "source": [
    "# Weighted initial state for the casino vs the player\n",
    "# Increase the casino's winining chance by 10% -> alpha² = 0.4 (player), betha² = 0.6 (casino)\n",
    "from math import sqrt\n",
    "from qiskit import QuantumCircuit, Aer, execute\n",
    "from qiskit.visualization import plot_histogram\n",
    "import matplotlib.pyplot as plt\n",
    "\n",
    "# Define state |psi> \n",
    "initial_state = [sqrt(0.4),sqrt(0.6)]\n",
    "\n",
    "# Redifine the quantum circuit\n",
    "qc = QuantumCircuit(1)\n",
    "\n",
    "# Initialize the 0th qubit in the the state 'initial_state' \n",
    "qc.initialize(initial_state,0)\n",
    "\n",
    "# Simulate the circuit \n",
    "backend = Aer.get_backend('statevector_simulator')\n",
    "results = execute(qc,backend).result().get_counts()\n",
    "plot_histogram(results)"
   ]
  },
  {
   "cell_type": "code",
   "execution_count": 62,
   "metadata": {},
   "outputs": [
    {
     "data": {
      "image/png": "[encoded data removed]",
      "text/plain": [
       "<Figure size 504x360 with 1 Axes>"
      ]
     },
     "execution_count": 62,
     "metadata": {},
     "output_type": "execute_result"
    }
   ],
   "source": [
    "# Rotation matrix gate\n",
    "from math import pi\n",
    "\n",
    "# Define state |0> \n",
    "initial_state = [1,0]\n",
    "\n",
    "# Redefine the quantum circuit \n",
    "qc = QuantumCircuit(1)\n",
    "\n",
    "# Initialize the 0th qubit in the state 'initial_state'\n",
    "qc.initialize(initial_state,0)\n",
    "\n",
    "# Rotate the state by a quarter of a half circle\n",
    "qc.ry(pi/4,0)\n",
    "\n",
    "# Tell Qiskit how to simulate the cirquit \n",
    "backend = Aer.get_backend('statevector_simulator')\n",
    "\n",
    "# Running the simulation\n",
    "results = execute(qc,backend).result().get_counts()\n",
    "plot_histogram(results)"
   ]
  },
  {
   "cell_type": "code",
   "execution_count": 68,
   "metadata": {},
   "outputs": [],
   "source": [
    "# Computing theta for a given probability - formula in page 141\n",
    "from math import asin \n",
    "\n",
    "def prob_to_angle(prob):\n",
    "    \"\"\"\n",
    "    Convert a given P(psi) value into an equivalent theta value\n",
    "    Works for probabilities to measure the qubit as a 1 \n",
    "    \"\"\"\n",
    "    return 2*asin(sqrt(prob))\n",
    "\n",
    "def prob_to_angle_with_prior(prob,prior):\n",
    "\n",
    "    \"\"\"\n",
    "    Takes the probability a qubit is to change as the first parameter and the prior \n",
    "    probability of the qubit as the second parameter.\n",
    "    \"\"\"\n",
    "    return 2*asin(sqrt(prob+prior)) - 2*asin(sqrt(prior))"
   ]
  },
  {
   "cell_type": "code",
   "execution_count": 64,
   "metadata": {},
   "outputs": [
    {
     "data": {
      "image/png": "[encoded data removed]",
      "text/plain": [
       "<Figure size 504x360 with 1 Axes>"
      ]
     },
     "execution_count": 64,
     "metadata": {},
     "output_type": "execute_result"
    }
   ],
   "source": [
    "# Rotation matrix gate with computed theta from probability\n",
    "# 10% more to win by the casino (state 1) - player (state 0)\n",
    "from math import pi\n",
    "\n",
    "# Define state |0> \n",
    "initial_state = [1,0]\n",
    "\n",
    "# Redefine the quantum circuit \n",
    "qc = QuantumCircuit(1)\n",
    "\n",
    "# Initialize the 0th qubit in the state 'initial_state'\n",
    "qc.initialize(initial_state,0)\n",
    "\n",
    "# Rotate the state by a quarter of a half circle\n",
    "qc.ry(prob_to_angle(0.6),0)\n",
    "\n",
    "# Tell Qiskit how to simulate the cirquit \n",
    "backend = Aer.get_backend('statevector_simulator')\n",
    "\n",
    "# Running the simulation\n",
    "results = execute(qc,backend).result().get_counts()\n",
    "plot_histogram(results)"
   ]
  },
  {
   "cell_type": "code",
   "execution_count": 67,
   "metadata": {},
   "outputs": [
    {
     "data": {
      "image/png": "[encoded data removed]",
      "text/plain": [
       "<Figure size 504x360 with 1 Axes>"
      ]
     },
     "execution_count": 67,
     "metadata": {},
     "output_type": "execute_result"
    }
   ],
   "source": [
    "# Rotating Qbit initialized with |+> stae = [1/sqrt(2),1/sqrt(2)] = 50% of meausuring the qubit in either 0 or 1\n",
    "from math import pi, sqrt\n",
    "\n",
    "# Define state |+>\n",
    "initial_state = [1/sqrt(2), 1/sqrt(2)]\n",
    "\n",
    "# Redefine the quantum circuit\n",
    "qc = QuantumCircuit(1)\n",
    "\n",
    "# Initialize the 0th qubit \n",
    "qc.initialize(initial_state,0)\n",
    "\n",
    "# Rotate the state by 10%\n",
    "qc.ry(prob_to_angle_with_prior(0.1,0.5),0)\n",
    "\n",
    "# Run the simulation\n",
    "backend = Aer.get_backend('statevector_simulator')\n",
    "results = execute(qc,backend).result().get_counts()\n",
    "plot_histogram(results)\n",
    "\n",
    "\n"
   ]
  },
  {
   "cell_type": "markdown",
   "metadata": {},
   "source": [
    "#### Chapter 5 conclusion \n",
    "\n",
    "In quantum computing, where you go always depends on where you come from. To the second, even more importantly, from a practical perspective, if you\n",
    "want to change the measurement probabilities by a certain percentage, you need to know the prior probabilities. You need to know the state the qubit is\n",
    "in. Remember, measuring the qubit collapses it to either 0 or 1. Measuring destroys the qubit superposition. But, if you’re not allowed to measure the\n",
    "qubit, how could you specify the prior probability?\n",
    "\n",
    "Working with Qubits In the trivial examples we used in this section, we can keep track of the qubit states by hand. But for any meaningful quantum circuit, \n",
    "this becomes impossible. Thus, the advantage of a quantum circuit over a classical algorithm builds upon the qubit’s ability to explore states we can’t \n",
    "trace classically. \n",
    "\n",
    "To succeed beyond the traceable manipulation of qubit states, we need to work with multiple qubits concurrently. When we combine qubits, more sophisticated \n",
    "transformations become possible. "
   ]
  },
  {
   "cell_type": "code",
   "execution_count": null,
   "metadata": {},
   "outputs": [],
   "source": []
  },
  {
   "cell_type": "markdown",
   "metadata": {},
   "source": [
    "#### Working with multiple Qubits "
   ]
  },
  {
   "cell_type": "code",
   "execution_count": null,
   "metadata": {},
   "outputs": [],
   "source": []
  }
 ],
 "metadata": {
  "kernelspec": {
   "display_name": "Python 3.8.5 ('quantum')",
   "language": "python",
   "name": "python3"
  },
  "language_info": {
   "codemirror_mode": {
    "name": "ipython",
    "version": 3
   },
   "file_extension": ".py",
   "mimetype": "text/x-python",
   "name": "python",
   "nbconvert_exporter": "python",
   "pygments_lexer": "ipython3",
   "version": "3.8.5"
  },
  "orig_nbformat": 4,
  "vscode": {
   "interpreter": {
    "hash": "53028173f9fe83578239854ff7f4cf8c5a09a15b2d039e6bf4e172078493b4e8"
   }
  }
 },
 "nbformat": 4,
 "nbformat_minor": 2
}
